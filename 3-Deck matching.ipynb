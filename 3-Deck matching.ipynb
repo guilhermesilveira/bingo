{
 "cells": [
  {
   "cell_type": "code",
   "execution_count": 1,
   "id": "732b3f1e",
   "metadata": {},
   "outputs": [],
   "source": [
    "from tqdm import tqdm\n",
    "import seaborn as sns\n",
    "import pandas as pd\n",
    "import numpy as np\n",
    "import matplotlib.pyplot as plt\n",
    "from functools import partial\n"
   ]
  },
  {
   "cell_type": "code",
   "execution_count": 2,
   "id": "a05e458e",
   "metadata": {},
   "outputs": [],
   "source": [
    "from bingo import *\n",
    "from graph import *\n",
    "from counting import *\n",
    "from latex import *\n",
    "from parallel import *"
   ]
  },
  {
   "cell_type": "code",
   "execution_count": 3,
   "id": "ee7ee8ce",
   "metadata": {},
   "outputs": [],
   "source": [
    "RUNS = 5_000_000"
   ]
  },
  {
   "cell_type": "code",
   "execution_count": 4,
   "id": "4a5c4165",
   "metadata": {},
   "outputs": [],
   "source": [
    "np.random.seed(56734)"
   ]
  },
  {
   "cell_type": "markdown",
   "id": "af1b3599",
   "metadata": {},
   "source": [
    "# Deck matching test\n"
   ]
  },
  {
   "cell_type": "code",
   "execution_count": 5,
   "id": "aa2dfd80",
   "metadata": {},
   "outputs": [
    {
     "name": "stdout",
     "output_type": "stream",
     "text": [
      "4\n",
      "6343\n"
     ]
    }
   ],
   "source": [
    "print(how_many_decks_match(10))\n",
    "print(how_many_decks_match(10_000))"
   ]
  },
  {
   "cell_type": "code",
   "execution_count": 6,
   "id": "a9c62474",
   "metadata": {},
   "outputs": [
    {
     "name": "stdout",
     "output_type": "stream",
     "text": [
      "1 parsed.\n",
      "0.63231\n"
     ]
    }
   ],
   "source": [
    "print(n_how_many_decks_match(100_000, 1))"
   ]
  },
  {
   "cell_type": "code",
   "execution_count": 7,
   "id": "3b242c2c",
   "metadata": {},
   "outputs": [
    {
     "name": "stdout",
     "output_type": "stream",
     "text": [
      "2 parsed.\n",
      "0.853\n",
      "3 parsed.\n",
      "0.949\n",
      "7 parsed.\n",
      "1.0\n",
      "CPU times: user 101 ms, sys: 2.12 ms, total: 103 ms\n",
      "Wall time: 112 ms\n"
     ]
    }
   ],
   "source": [
    "%%time\n",
    "\n",
    "print(n_how_many_decks_match(1000, 2))\n",
    "print(n_how_many_decks_match(1000, 3))\n",
    "print(n_how_many_decks_match(1000, 7))"
   ]
  },
  {
   "cell_type": "code",
   "execution_count": 8,
   "id": "56d9469a",
   "metadata": {},
   "outputs": [
    {
     "name": "stdout",
     "output_type": "stream",
     "text": [
      "2 parsed.\n",
      "0.86366\n",
      "3 parsed.\n",
      "0.94917\n",
      "7 parsed.\n",
      "0.99913\n",
      "CPU times: user 9.29 s, sys: 41.1 ms, total: 9.33 s\n",
      "Wall time: 9.86 s\n"
     ]
    }
   ],
   "source": [
    "%%time\n",
    "\n",
    "print(n_how_many_decks_match(100_000, 2))\n",
    "print(n_how_many_decks_match(100_000, 3))\n",
    "print(n_how_many_decks_match(100_000, 7))"
   ]
  },
  {
   "cell_type": "code",
   "execution_count": null,
   "id": "5effaf33",
   "metadata": {},
   "outputs": [],
   "source": []
  }
 ],
 "metadata": {
  "kernelspec": {
   "display_name": "Python 3 (ipykernel)",
   "language": "python",
   "name": "python3"
  },
  "language_info": {
   "codemirror_mode": {
    "name": "ipython",
    "version": 3
   },
   "file_extension": ".py",
   "mimetype": "text/x-python",
   "name": "python",
   "nbconvert_exporter": "python",
   "pygments_lexer": "ipython3",
   "version": "3.9.6"
  }
 },
 "nbformat": 4,
 "nbformat_minor": 5
}
